{
 "cells": [
  {
   "cell_type": "code",
   "execution_count": 48,
   "metadata": {},
   "outputs": [],
   "source": [
    "import numpy as np\n",
    "import os\n",
    "import glog as log\n",
    "import copy\n",
    "\n",
    "from __future__ import division\n",
    "\n",
    "import open3d as o3d\n",
    "from open3d import JVisualizer\n",
    "import pandas as pd\n",
    "\n",
    "from evaluation.tools.mesh import Mesh\n",
    "from evaluation.tools.mesh_evaluator import MeshEvaluator\n",
    "\n",
    "# Rotation matrices:\n",
    "# East North Up (ENU) frame to Unity's world frame of reference\n",
    "enu_R_unity = np.array([[1, 0, 0],\n",
    "                        [0, 0, 1],\n",
    "                        [0, 1, 0]])\n",
    "unity_R_enu = np.transpose(enu_R_unity)\n",
    "\n",
    "# Right Handed frame to Unity's Left Handed frame of reference\n",
    "righthand_R_lefthand = np.array([[1, 0, 0],\n",
    "                                 [0, -1, 0],\n",
    "                                 [0, 0, 1]])\n",
    "lefthand_R_righthand = np.transpose(righthand_R_lefthand)"
   ]
  },
  {
   "cell_type": "code",
   "execution_count": 49,
   "metadata": {},
   "outputs": [
    {
     "name": "stdout",
     "output_type": "stream",
     "text": [
      "/home/tonirv/Code/ROS/kimera_ws/src/Kimera-Semantics/kimera_semantics_ros/mesh_results/humans_6_long_gt_dyn.ply\n",
      "/home/tonirv/Code/ROS/kimera_ws/src/Kimera-Semantics/kimera_semantics_ros/mesh_results/humans_6_long_gt_no_dyn.ply\n",
      "/home/tonirv/Code/ROS/kimera_ws/src/Kimera-Semantics/kimera_semantics_ros/mesh_results/humans_12_long_gt_dyn.ply\n",
      "/home/tonirv/Code/ROS/kimera_ws/src/Kimera-Semantics/kimera_semantics_ros/mesh_results/humans_12_long_gt_no_dyn.ply\n",
      "/home/tonirv/Code/ROS/kimera_ws/src/Kimera-Semantics/kimera_semantics_ros/mesh_results/humans_30_long_gt_dyn.ply\n",
      "/home/tonirv/Code/ROS/kimera_ws/src/Kimera-Semantics/kimera_semantics_ros/mesh_results/humans_30_long_gt_no_dyn.ply\n"
     ]
    }
   ],
   "source": [
    "# FILL PATHS BELOW\n",
    "#gt_mesh_path = \"/home/tonirv/Downloads/tesse_multiscene_office1_3d_semantic_v5.ply\"\n",
    "#est_mesh_path = \"/home/tonirv/Downloads/tesse_semantics_2.ply\"\n",
    "\n",
    "#gt_mesh_path = \"/home/tonirv/Code/ROS/flight_goggles_ws/src/voxblox/voxblox_ros/mesh_results/semantic_mesh_tonirv_ld_9118_6487309760727328010.ply\"\n",
    "#est_mesh_path = \"/home/tonirv/Code/ROS/flight_goggles_ws/src/voxblox/voxblox_ros/mesh_results/semantic_mesh_tonirv_ld_9118_6487309760727328010.ply\"\n",
    "\n",
    "#gt_mesh_path = \"/home/tonirv/Downloads/tesse_multiscene_office1_3d_semantic_v5.ply\"\n",
    "#est_mesh_path = \"/home/tonirv/Code/ROS/flight_goggles_ws/src/voxblox/voxblox_ros/mesh_results/tesse_semantics_3.ply\"\n",
    "\n",
    "gt_mesh_path = \"/home/tonirv/Downloads/office1_tony.ply\"\n",
    "\n",
    "est_base_path = \"/home/tonirv/Code/ROS/kimera_ws/src/Kimera-Semantics/kimera_semantics_ros/mesh_results/\"\n",
    "est_mesh_names = [\"humans_6_long_gt_dyn.ply\",\n",
    "                  \"humans_6_long_gt_no_dyn.ply\",\n",
    "                  \"humans_12_long_gt_dyn.ply\",\n",
    "                  \"humans_12_long_gt_no_dyn.ply\",\n",
    "                  \"humans_30_long_gt_dyn.ply\",\n",
    "                  \"humans_30_long_gt_no_dyn.ply\"\n",
    "                 ]\n",
    "\n",
    "est_mesh_paths = []\n",
    "for est_mesh_name in est_mesh_names:\n",
    "    est_mesh_path = est_base_path + est_mesh_name\n",
    "    est_mesh_paths.append(est_mesh_path)\n",
    "    print(est_mesh_path)\n",
    "\n",
    "\n",
    "#est_mesh_path = \"/home/tonirv/Code/ROS/kimera_ws/src/Kimera-Semantics/kimera_semantics_ros/mesh_results/humans_6_long_gt_no_dyn.ply\"\n",
    "\n",
    "#est_mesh_path = \"/home/tonirv/Code/ROS/kimera_ws/src/Kimera-Semantics/kimera_semantics_ros/mesh_results/humans_12_long_gt_dyn.ply\"\n",
    "#est_mesh_path = \"/home/tonirv/Code/ROS/kimera_ws/src/Kimera-Semantics/kimera_semantics_ros/mesh_results/humans_12_long_gt_no_dyn.ply\"\n",
    "\n",
    "#est_mesh_path = \"/home/tonirv/Code/ROS/kimera_ws/src/Kimera-Semantics/kimera_semantics_ros/mesh_results/humans_12_long_gt_dyn.ply\"\n",
    "#est_mesh_path = \"/home/tonirv/Code/ROS/kimera_ws/src/Kimera-Semantics/kimera_semantics_ros/mesh_results/humans_12_long_gt_no_dyn.ply\""
   ]
  },
  {
   "cell_type": "code",
   "execution_count": 50,
   "metadata": {},
   "outputs": [
    {
     "name": "stdout",
     "output_type": "stream",
     "text": [
      "Loading Ground-truth mesh...\n",
      "Testing mesh in open3d ...\n",
      "geometry::TriangleMesh with 1572372 points and 524124 triangles.\n",
      "[[14.5       4.       27.5     ]\n",
      " [13.5       4.       39.5     ]\n",
      " [14.5       4.       39.5     ]\n",
      " ...\n",
      " [ 6.567781  2.118583 36.00596 ]\n",
      " [ 6.568742  2.126512 36.21212 ]\n",
      " [ 6.568742  2.126512 36.00596 ]]\n",
      "[[      0       1       2]\n",
      " [      3       4       5]\n",
      " [      6       7       8]\n",
      " ...\n",
      " [1572363 1572364 1572365]\n",
      " [1572366 1572367 1572368]\n",
      " [1572369 1572370 1572371]]\n",
      "\n",
      "Transforming mesh according to left matrix:\n",
      "[[1 0 0]\n",
      " [0 0 1]\n",
      " [0 1 0]]\n"
     ]
    }
   ],
   "source": [
    "print(\"Loading Ground-truth mesh...\")\n",
    "gt_mesh_original = Mesh(gt_mesh_path)\n",
    "\n",
    "# Transform Meshes to same frame of reference\n",
    "gt_mesh = copy.deepcopy(gt_mesh_original)\n",
    "\n",
    "# Align Pointclouds Manually:\n",
    "#est_mesh.mesh_o3d.translate([0, -5, 0])\n",
    "#gt_mesh.transform_left(righthand_R_lefthand)\n",
    "gt_mesh.transform_left(enu_R_unity)\n",
    "\n",
    "vis = o3d.visualization.Visualizer()\n",
    "vis.create_window()\n",
    "vis.get_render_option().mesh_show_back_face = True\n",
    "vis.add_geometry(est_mesh.mesh_o3d)\n",
    "vis.add_geometry(gt_mesh.mesh_o3d)\n",
    "vis.add_geometry(o3d.geometry.create_mesh_coordinate_frame(size=4))\n",
    "vis.run()\n",
    "vis.destroy_window()\n",
    "\n",
    "NUMBER_OF_SAMPLES=1000000\n",
    "gt_pcl = o3d.geometry.sample_points_uniformly(gt_mesh.mesh_o3d, NUMBER_OF_SAMPLES)"
   ]
  },
  {
   "cell_type": "code",
   "execution_count": 57,
   "metadata": {},
   "outputs": [
    {
     "name": "stdout",
     "output_type": "stream",
     "text": [
      "Loading Estimated meshes...\n",
      "Testing mesh in open3d ...\n",
      "geometry::TriangleMesh with 5691863 points and 6674991 triangles.\n",
      "[[ 28.365    25.485     1.02251]\n",
      " [ 28.335    25.455     1.01616]\n",
      " [ 28.365    25.455     1.01376]\n",
      " ...\n",
      " [-12.045    23.535     3.96728]\n",
      " [-12.045    23.5224    3.975  ]\n",
      " [-12.075    23.507     4.005  ]]\n",
      "[[      0       1       2]\n",
      " [      3       1       0]\n",
      " [      4       3       0]\n",
      " ...\n",
      " [5691814 5691817 5691812]\n",
      " [5691862 5691725 5691724]\n",
      " [5691725 5691862 5691758]]\n",
      "\n",
      "Testing mesh in open3d ...\n",
      "geometry::TriangleMesh with 5581641 points and 6521821 triangles.\n",
      "[[27.885   24.525    1.00789]\n",
      " [27.855   24.495    1.00704]\n",
      " [27.885   24.495    1.0068 ]\n",
      " ...\n",
      " [16.7972  28.605    1.875  ]\n",
      " [16.7864  28.575    1.875  ]\n",
      " [16.785   28.575    1.87596]]\n",
      "[[      0       1       2]\n",
      " [      3       1       0]\n",
      " [      4       3       0]\n",
      " ...\n",
      " [5581634 5581635 5581636]\n",
      " [5581637 5581638 5581639]\n",
      " [5581637 5581639 5581640]]\n",
      "\n",
      "Testing mesh in open3d ...\n",
      "geometry::TriangleMesh with 5667927 points and 6549045 triangles.\n",
      "[[ 6.255   21.915    4.01824]\n",
      " [ 6.27892 21.915    4.005  ]\n",
      " [ 6.25577 21.885    4.005  ]\n",
      " ...\n",
      " [14.9508  28.635    1.935  ]\n",
      " [14.9391  28.665    1.935  ]\n",
      " [14.925   28.695    1.91554]]\n",
      "[[      0       1       2]\n",
      " [      0       2       3]\n",
      " [      4       5       1]\n",
      " ...\n",
      " [5667664 3878648 3878650]\n",
      " [5667921 5667772 5667771]\n",
      " [5667843 5667921 5667771]]\n",
      "\n",
      "Testing mesh in open3d ...\n",
      "geometry::TriangleMesh with 5539833 points and 6408500 triangles.\n",
      "[[17.775   36.495    2.04882]\n",
      " [17.7713  36.495    2.025  ]\n",
      " [17.775   36.4921   2.025  ]\n",
      " ...\n",
      " [18.105   32.6355   4.005  ]\n",
      " [18.105   32.6355   4.005  ]\n",
      " [18.135   32.6511   4.005  ]]\n",
      "[[      0       1       2]\n",
      " [      3       4       5]\n",
      " [      6       7       8]\n",
      " ...\n",
      " [5539730 2463775 2463809]\n",
      " [5539797 2463849 5539795]\n",
      " [5539797 2463850 2463849]]\n",
      "\n",
      "Testing mesh in open3d ...\n",
      "geometry::TriangleMesh with 4672048 points and 5445487 triangles.\n",
      "[[27.375   46.455    4.0152 ]\n",
      " [27.405   46.485    4.01714]\n",
      " [27.405   46.455    4.00583]\n",
      " ...\n",
      " [ 7.485   28.815    4.00826]\n",
      " [ 7.485   28.785    4.00712]\n",
      " [ 7.605   28.815    4.0056 ]]\n",
      "[[      0       1       2]\n",
      " [      0       3       1]\n",
      " [      4       5       6]\n",
      " ...\n",
      " [4672046 4672044 4672045]\n",
      " [4672047 4672043 4671965]\n",
      " [4672047 4671965 4671970]]\n",
      "\n",
      "Testing mesh in open3d ...\n",
      "geometry::TriangleMesh with 4768176 points and 5519739 triangles.\n",
      "[[18.0874  46.215    3.705  ]\n",
      " [18.0845  46.185    3.735  ]\n",
      " [18.0889  46.185    3.705  ]\n",
      " ...\n",
      " [ 3.285   27.375    1.10608]\n",
      " [ 3.315   27.3697   1.095  ]\n",
      " [ 3.315   27.375    1.10315]]\n",
      "[[      0       1       2]\n",
      " [      0       3       1]\n",
      " [      4       3       0]\n",
      " ...\n",
      " [4768172 4768175 4768173]\n",
      " [4768091 4768092 4768174]\n",
      " [4768174 4768092 4768175]]\n",
      "\n"
     ]
    }
   ],
   "source": [
    "print(\"Loading Estimated meshes...\")\n",
    "dict_est_pcls = dict()\n",
    "for est_mesh_path in est_mesh_paths:\n",
    "    est_mesh_original = Mesh(est_mesh_path)\n",
    "    est_mesh = copy.deepcopy(est_mesh_original)\n",
    "    # Don't sample estimated mesh, just pick vertices, otw you'll be mixing colors...\n",
    "    # est_pcl = o3d.geometry.sample_points_uniformly(est_mesh.mesh_o3d, NUMBER_OF_SAMPLES)\n",
    "    est_pcl = o3d.io.read_point_cloud(est_mesh_path)\n",
    "    dict_est_pcls[est_mesh_path] = (est_pcl)"
   ]
  },
  {
   "cell_type": "code",
   "execution_count": 52,
   "metadata": {},
   "outputs": [],
   "source": [
    "# ICP\n",
    "def draw_registration_result(source, target, transformation):\n",
    "    source_temp = copy.deepcopy(source)\n",
    "    target_temp = copy.deepcopy(target)\n",
    "    source_temp.paint_uniform_color([1, 0.706, 0])\n",
    "    target_temp.paint_uniform_color([0, 0.651, 0.929])\n",
    "    source_temp.transform(transformation)\n",
    "    o3d.visualization.draw_geometries([source_temp, target_temp])\n",
    "def draw_correspondences(source, target, correspondences):\n",
    "    source_temp = copy.deepcopy(source)\n",
    "    target_temp = copy.deepcopy(target)\n",
    "    #source_temp.paint_uniform_color([1, 0.706, 0])\n",
    "    #target_temp.paint_uniform_color([0, 0.651, 0.929])\n",
    "    o3d.visualization.draw_geometries([source_temp, #target_temp, \n",
    "                                       correspondences])\n",
    "    "
   ]
  },
  {
   "cell_type": "code",
   "execution_count": 53,
   "metadata": {},
   "outputs": [],
   "source": [
    "# ICP params\n",
    "ICP_THRESHOLD = 1.5\n",
    "trans_init = np.asarray([[1.0, 0.0, 0.0, 0.0],\n",
    "                         [0.0, 1.0, 0.0, 0.0],\n",
    "                         [0.0, 0.0, 1.0, 0.0],\n",
    "                         [0.0, 0.0, 0.0, 1.0]])"
   ]
  },
  {
   "cell_type": "code",
   "execution_count": 54,
   "metadata": {},
   "outputs": [],
   "source": [
    "def visualize_two_pcls(gt_pcl, est_pcl):\n",
    "    vis = o3d.visualization.Visualizer()\n",
    "    vis.create_window()\n",
    "    vis.get_render_option().mesh_show_back_face = True\n",
    "    vis.add_geometry(gt_pcl)\n",
    "    vis.add_geometry(est_pcl)\n",
    "    vis.run()\n",
    "    vis.destroy_window()  "
   ]
  },
  {
   "cell_type": "code",
   "execution_count": 62,
   "metadata": {},
   "outputs": [],
   "source": [
    "visualize = False\n",
    "def evaluate_icp_for_clouds(gt_pcl, dict_est_pcls):\n",
    "    for est_pcl_key in dict_est_pcls:\n",
    "        est_pcl = dict_est_pcls[est_pcl_key]\n",
    "        if (visualize):\n",
    "            visualize_two_pcls(gt_pcl, est_pcl)\n",
    "            draw_registration_result(est_pcl, gt_pcl, trans_init)\n",
    "            \n",
    "        evaluation = o3d.registration.evaluate_registration(est_pcl, gt_pcl, ICP_THRESHOLD, trans_init)\n",
    "        reg_p2p = o3d.registration.registration_icp(\n",
    "        est_pcl, gt_pcl, ICP_THRESHOLD, trans_init,\n",
    "        o3d.registration.TransformationEstimationPointToPoint(),\n",
    "        o3d.registration.ICPConvergenceCriteria(max_iteration = 2000))\n",
    "        correspondences = reg_p2p.correspondence_set\n",
    "        \n",
    "        if (visualize):\n",
    "            # Draw Registration Result\n",
    "            draw_registration_result(est_pcl, gt_pcl, reg_p2p.transformation)\n",
    "        \n",
    "        print(\"# # # # REGISTRATION INLIER RMSE for: %s \" % est_pcl_key)\n",
    "        print(reg_p2p.inlier_rmse)\n",
    "        print(\"\")\n"
   ]
  },
  {
   "cell_type": "code",
   "execution_count": 63,
   "metadata": {},
   "outputs": [
    {
     "name": "stdout",
     "output_type": "stream",
     "text": [
      "# # # # REGISTRATION INLIER RMSE for: /home/tonirv/Code/ROS/kimera_ws/src/Kimera-Semantics/kimera_semantics_ros/mesh_results/humans_12_long_gt_no_dyn.ply \n",
      "0.133386353341\n",
      "\n",
      "# # # # REGISTRATION INLIER RMSE for: /home/tonirv/Code/ROS/kimera_ws/src/Kimera-Semantics/kimera_semantics_ros/mesh_results/humans_30_long_gt_dyn.ply \n",
      "0.0610379666296\n",
      "\n",
      "# # # # REGISTRATION INLIER RMSE for: /home/tonirv/Code/ROS/kimera_ws/src/Kimera-Semantics/kimera_semantics_ros/mesh_results/humans_12_long_gt_dyn.ply \n",
      "0.133685119516\n",
      "\n",
      "# # # # REGISTRATION INLIER RMSE for: /home/tonirv/Code/ROS/kimera_ws/src/Kimera-Semantics/kimera_semantics_ros/mesh_results/humans_6_long_gt_no_dyn.ply \n",
      "0.0892965288129\n",
      "\n",
      "# # # # REGISTRATION INLIER RMSE for: /home/tonirv/Code/ROS/kimera_ws/src/Kimera-Semantics/kimera_semantics_ros/mesh_results/humans_30_long_gt_no_dyn.ply \n",
      "0.192013593816\n",
      "\n",
      "# # # # REGISTRATION INLIER RMSE for: /home/tonirv/Code/ROS/kimera_ws/src/Kimera-Semantics/kimera_semantics_ros/mesh_results/humans_6_long_gt_dyn.ply \n",
      "0.0606221036093\n",
      "\n"
     ]
    }
   ],
   "source": [
    "# RUN FULL EVALUATION\n",
    "evaluate_icp_for_clouds(gt_pcl, dict_est_pcls)"
   ]
  },
  {
   "cell_type": "code",
   "execution_count": 42,
   "metadata": {},
   "outputs": [],
   "source": [
    "# Visualize initial registration problem\n",
    "if (visualize):\n",
    "    draw_registration_result(est_pcl, gt_pcl, trans_init)"
   ]
  },
  {
   "cell_type": "code",
   "execution_count": 13,
   "metadata": {},
   "outputs": [],
   "source": [
    "# Evaluate current fit between pointclouds\n",
    "evaluation = o3d.registration.evaluate_registration(est_pcl, gt_pcl, ICP_THRESHOLD, trans_init)"
   ]
  },
  {
   "cell_type": "code",
   "execution_count": 14,
   "metadata": {},
   "outputs": [
    {
     "name": "stdout",
     "output_type": "stream",
     "text": [
      "Initial registration\n",
      "registration::RegistrationResult with fitness = 1.000000, inlier_rmse = 0.060733, and correspondence_set size of 5691863\n",
      "Access transformation to get result.\n"
     ]
    }
   ],
   "source": [
    "print(\"Initial registration\")\n",
    "print(evaluation)"
   ]
  },
  {
   "cell_type": "code",
   "execution_count": 15,
   "metadata": {},
   "outputs": [
    {
     "name": "stdout",
     "output_type": "stream",
     "text": [
      "Apply point-to-point ICP\n"
     ]
    }
   ],
   "source": [
    "print(\"Apply point-to-point ICP\")\n",
    "reg_p2p = o3d.registration.registration_icp(\n",
    "    est_pcl, gt_pcl, ICP_THRESHOLD, trans_init,\n",
    "    o3d.registration.TransformationEstimationPointToPoint(),\n",
    "    o3d.registration.ICPConvergenceCriteria(max_iteration = 2000))\n",
    "correspondences = reg_p2p.correspondence_set"
   ]
  },
  {
   "cell_type": "code",
   "execution_count": 24,
   "metadata": {},
   "outputs": [
    {
     "name": "stdout",
     "output_type": "stream",
     "text": [
      "registration::RegistrationResult with fitness = 1.000000, inlier_rmse = 0.060622, and correspondence_set size of 5691863\n",
      "Access transformation to get result.\n",
      "\n",
      "Transformation is:\n",
      "[[ 9.99999989e-01 -1.86947698e-06 -1.48213985e-04  1.57051234e-03]\n",
      " [ 1.86118979e-06  9.99999998e-01 -5.59138522e-05 -1.04631268e-03]\n",
      " [ 1.48214089e-04  5.59135757e-05  9.99999987e-01 -5.94344733e-03]\n",
      " [ 0.00000000e+00  0.00000000e+00  0.00000000e+00  1.00000000e+00]]\n",
      "\n",
      "Correspondence Set:\n",
      "std::vector<Eigen::Vector2i> with 5691863 elements.\n",
      "Use numpy.asarray() to access data.\n",
      "\n",
      "# # # # REGISTRATION INLIER RMSE: # # # # \n",
      "0.0606218589518\n",
      "\n"
     ]
    }
   ],
   "source": [
    "print(reg_p2p)\n",
    "print(\"\")\n",
    "\n",
    "print(\"Transformation is:\")\n",
    "print(reg_p2p.transformation)\n",
    "print(\"\")\n",
    "\n",
    "print(\"Correspondence Set:\")\n",
    "print(reg_p2p.correspondence_set)\n",
    "print(\"\")\n",
    "\n",
    "print(\"# # # # REGISTRATION INLIER RMSE: # # # # \")\n",
    "print(reg_p2p.inlier_rmse)\n",
    "print(\"\")"
   ]
  }
 ],
 "metadata": {
  "kernelspec": {
   "display_name": "Python 2",
   "language": "python",
   "name": "python2"
  },
  "language_info": {
   "codemirror_mode": {
    "name": "ipython",
    "version": 2
   },
   "file_extension": ".py",
   "mimetype": "text/x-python",
   "name": "python",
   "nbconvert_exporter": "python",
   "pygments_lexer": "ipython2",
   "version": "2.7.15rc1"
  }
 },
 "nbformat": 4,
 "nbformat_minor": 2
}
