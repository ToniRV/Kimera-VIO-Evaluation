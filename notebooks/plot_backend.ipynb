{
 "cells": [
  {
   "cell_type": "markdown",
   "metadata": {},
   "source": [
    "# Plot Backend\n",
    "\n",
    "Plots the APE, RPE and trajectory against ground truth for the final backend output trajectory."
   ]
  },
  {
   "cell_type": "code",
   "execution_count": null,
   "metadata": {},
   "outputs": [],
   "source": [
    "import yaml\n",
    "import os\n",
    "import copy\n",
    "import pandas as pd\n",
    "import numpy as np\n",
    "\n",
    "import logging\n",
    "log = logging.getLogger(__name__)\n",
    "log.setLevel(logging.INFO)\n",
    "if not log.handlers:\n",
    "    ch = logging.StreamHandler()\n",
    "    ch.setLevel(logging.INFO)\n",
    "    ch.setFormatter(logging.Formatter('%(levelname)s - %(message)s'))\n",
    "    log.addHandler(ch)\n",
    "    \n",
    "from evo.tools import file_interface\n",
    "from evo.tools import plot\n",
    "from evo.tools import pandas_bridge\n",
    "\n",
    "from evo.core import sync\n",
    "from evo.core import trajectory\n",
    "from evo.core import metrics\n",
    "from evo.core import transformations\n",
    "from evo.core import lie_algebra as lie\n",
    "\n",
    "%matplotlib inline\n",
    "# %matplotlib notebook\n",
    "import matplotlib.pyplot as plt"
   ]
  },
  {
   "cell_type": "markdown",
   "metadata": {},
   "source": [
    "## Data Locations\n",
    "\n",
    "Make sure to set the following paths.\n",
    "\n",
    "`vio_output_dir` is the path to the directory containing `output_*.csv` files obtained from logging a run of SparkVio.\n",
    "\n",
    "`gt_data_file` is the absolute path to the `csv` file containing ground truth data for the absolute pose at each timestamp of the dataset."
   ]
  },
  {
   "cell_type": "code",
   "execution_count": null,
   "metadata": {},
   "outputs": [],
   "source": [
    "# Define directory to VIO output csv files as well as ground truth absolute poses.\n",
    "vio_output_dir = \"/home/marcus/catkin_ws/src/Kimera-VIO/output_logs/\"\n",
    "gt_data_file = \"/home/marcus/catkin_ws/src/Kimera-VIO/output_logs/traj_gt.csv\""
   ]
  },
  {
   "cell_type": "code",
   "execution_count": null,
   "metadata": {},
   "outputs": [],
   "source": [
    "def get_ape(data, metric):\n",
    "    \"\"\" Gets APE and APE statistics for two trajectories and a given pose_relation.\n",
    "        \n",
    "        Args:\n",
    "            data:   tuple of trajectories, the first being the reference trajectory\n",
    "                    and the second being the estimated trajectory.\n",
    "            metric: a metrics.PoseRelation instance representing the pose relation\n",
    "                    to use when computing APE.\n",
    "        \n",
    "        Returns:\n",
    "            A metrics.APE instance containing the APE for both trajectories according\n",
    "            to the given metric.\n",
    "    \"\"\"\n",
    "    ape = metrics.APE(metric)\n",
    "    ape.process_data(data)\n",
    "    \n",
    "    return ape\n",
    "\n",
    "\n",
    "def plot_ape(x_axis, ape, size=(18,10), title=None):\n",
    "    \"\"\" Plots APE error against time for a given metrics.APE instance.\n",
    "    \n",
    "        Args:\n",
    "            x_axis: An array-type of values for all the x-axis values (time).\n",
    "            rpe:    A metrics.APE instance with pre-processed data.\n",
    "            size:   A tuple optionally containing the size of the figure to be plotted.\n",
    "    \"\"\"\n",
    "    if title == None:\n",
    "        title = \"APE w.r.t. \" + ape.pose_relation.value\n",
    "    \n",
    "    fig = plt.figure(figsize=size)\n",
    "    plot.error_array(fig, ape.error, x_array=x_axis, statistics=ape.get_all_statistics(), \n",
    "                 name=\"APE\", title=title, xlabel=\"$t$ (s)\")\n",
    "    plt.show()\n",
    "\n",
    "\n",
    "def get_rpe(data, metric):\n",
    "    \"\"\" Gets RPE and RPE statistics for two trajectories and a given pose_relation.\n",
    "        \n",
    "        Args:\n",
    "            data:   tuple of trajectories, the first being the reference trajectory\n",
    "                    and the second being the estimated trajectory.\n",
    "            metric: a metrics.PoseRelation instance representing the pose relation\n",
    "                    to use when computing RPE.\n",
    "        \n",
    "        Returns:\n",
    "            A metrics.RPE instance containing the RPE for both trajectories according\n",
    "            to the given metric.\n",
    "    \"\"\"\n",
    "    # normal mode\n",
    "    delta = 1\n",
    "    delta_unit = metrics.Unit.frames\n",
    "    all_pairs = False\n",
    "\n",
    "    rpe = metrics.RPE(metric, delta, delta_unit, all_pairs)\n",
    "    rpe.process_data(data)\n",
    "    return rpe\n",
    "\n",
    "\n",
    "def plot_rpe(x_axis, rpe, size=(18,10), title=None):\n",
    "    \"\"\" Plots RPE error against time for a given metrics.RPE instance.\n",
    "    \n",
    "        Args:\n",
    "            x_axis: An array-type of values for all the x-axis values (time).\n",
    "            rpe:    A metrics.RPE instance with pre-processed data.\n",
    "            size:   A tuple optionally containing the size of the figure to be plotted.\n",
    "    \"\"\"\n",
    "    if title == None:\n",
    "        title = \"RPE w.r.t. \" + rpe.pose_relation.value\n",
    "    \n",
    "    fig = plt.figure(figsize=size)\n",
    "    plot.error_array(fig, rpe.error, x_array=x_axis, statistics=rpe.get_all_statistics(), \n",
    "                     name=\"RPE\", title=title, xlabel=\"$t$ (s)\")\n",
    "    plt.show()\n",
    "\n",
    "\n",
    "def rename_euroc_gt_df(df):\n",
    "    \"\"\" Renames a DataFrame built from a EuRoC ground-truth data csv file to be easier to read.\n",
    "        \n",
    "        Column labels are changed to be more readable and to be identical to the generic pose \n",
    "        trajectory format used with other csv files. Note that '#timestamp' will not actually \n",
    "        be renamed if it is the index of the DataFrame (which it should be). It will be \n",
    "        appropriately renamed if it is the index name.\n",
    "        This operation is 'inplace': It does not return a new DataFrame but simply changes\n",
    "        the existing one.\n",
    "        \n",
    "        Args:\n",
    "            df: A pandas.DataFrame object.\n",
    "    \"\"\"\n",
    "    df.index.names = [\"timestamp\"]\n",
    "    df.rename(columns={\" p_RS_R_x [m]\": \"x\",\n",
    "                       \" p_RS_R_y [m]\": \"y\",\n",
    "                       \" p_RS_R_z [m]\": \"z\",\n",
    "                       \" q_RS_w []\": \"qw\",\n",
    "                       \" q_RS_x []\": \"qx\",\n",
    "                       \" q_RS_y []\": \"qy\",\n",
    "                       \" q_RS_z []\": \"qz\",\n",
    "                       \" v_RS_R_x [m s^-1]\": \"vx\",\n",
    "                       \" v_RS_R_y [m s^-1]\": \"vy\",\n",
    "                       \" v_RS_R_z [m s^-1]\": \"vz\",\n",
    "                       \" b_w_RS_S_x [rad s^-1]\": \"bgx\",\n",
    "                       \" b_w_RS_S_y [rad s^-1]\": \"bgy\",\n",
    "                       \" b_w_RS_S_z [rad s^-1]\": \"bgz\",\n",
    "                       \" b_a_RS_S_x [m s^-2]\": \"bax\",\n",
    "                       \" b_a_RS_S_y [m s^-2]\": \"bay\",\n",
    "                       \" b_a_RS_S_z [m s^-2]\": \"baz\"}, inplace=True)\n",
    "    \n",
    "\n",
    "def rename_pim_df(df):\n",
    "    \"\"\" Renames a DataFrame built from a PIM measurements csv file to be converted to a trajectory.\n",
    "    \n",
    "        This is an 'inplace' argument and returns nothing.\n",
    "    \n",
    "        Args:\n",
    "            df: A pandas.DataFrame object.\n",
    "    \"\"\"\n",
    "    df.index.names = [\"timestamp\"]\n",
    "    df.rename(columns={\"tx\": \"x\",\n",
    "                       \"ty\": \"y\",\n",
    "                       \"tz\": \"z\"}, inplace=True)"
   ]
  },
  {
   "cell_type": "markdown",
   "metadata": {},
   "source": [
    "## Backend Trajectory\n",
    "\n",
    "Associate, align and process the trajectory as determined by the backend. Note that this does not include loop closure factors or other optimizations. This is pure VIO."
   ]
  },
  {
   "cell_type": "code",
   "execution_count": null,
   "metadata": {},
   "outputs": [],
   "source": [
    "# Load ground truth and estimated data as csv DataFrames.\n",
    "gt_df = pd.read_csv(gt_data_file, sep=',', index_col=0)\n",
    "\n",
    "output_poses_filename = os.path.join(os.path.expandvars(vio_output_dir), \"traj_vio.csv\")\n",
    "output_poses_df = pd.read_csv(output_poses_filename, sep=',', index_col=0)"
   ]
  },
  {
   "cell_type": "code",
   "execution_count": null,
   "metadata": {},
   "outputs": [],
   "source": [
    "gt_df = gt_df[~gt_df.index.duplicated()]\n",
    "\n",
    "rename_euroc_gt_df(gt_df)"
   ]
  },
  {
   "cell_type": "code",
   "execution_count": null,
   "metadata": {},
   "outputs": [],
   "source": [
    "# Convert the gt relative-pose DataFrame to a trajectory object.\n",
    "traj_ref = pandas_bridge.df_to_trajectory(gt_df)\n",
    "\n",
    "# Use the backend poses as trajectory.\n",
    "traj_est_unaligned = pandas_bridge.df_to_trajectory(output_poses_df)\n",
    "discard_n_start_poses = 0\n",
    "discard_n_end_poses = 0\n",
    "\n",
    "# Associate the data.\n",
    "traj_est = copy.deepcopy(traj_est_unaligned)\n",
    "traj_ref, traj_est = sync.associate_trajectories(traj_ref, traj_est)\n",
    "traj_est = trajectory.align_trajectory(traj_est, traj_ref, correct_scale=False,\n",
    "                                       discard_n_start_poses = int(discard_n_start_poses),\n",
    "                                       discard_n_end_poses = int(discard_n_end_poses))\n",
    "\n",
    "print \"traj_ref: \", traj_ref\n",
    "print \"traj_est: \", traj_est"
   ]
  },
  {
   "cell_type": "markdown",
   "metadata": {},
   "source": [
    "## Absolute-Pose-Error Plotting\n",
    "\n",
    "Plot absolute-pose-error along the entire trajectory. APE gives a good sense of overall VIO performance across the entire trajectory."
   ]
  },
  {
   "cell_type": "code",
   "execution_count": null,
   "metadata": {},
   "outputs": [],
   "source": [
    "# Plot APE of trajectory rotation and translation parts.\n",
    "num_of_poses = traj_est.num_poses\n",
    "traj_est.reduce_to_ids(range(int(discard_n_start_poses), int(num_of_poses - discard_n_end_poses), 1))\n",
    "traj_ref.reduce_to_ids(range(int(discard_n_start_poses), int(num_of_poses - discard_n_end_poses), 1))\n",
    "\n",
    "seconds_from_start = [t - traj_est.timestamps[0] for t in traj_est.timestamps]\n",
    "\n",
    "ape_tran = get_ape((traj_ref, traj_est), metrics.PoseRelation.translation_part)\n",
    "plot_ape(seconds_from_start, ape_tran, title=\"VIO ATE in Meters\")"
   ]
  },
  {
   "cell_type": "code",
   "execution_count": null,
   "metadata": {},
   "outputs": [],
   "source": [
    "# Plot the ground truth and estimated trajectories against each other with APE overlaid.\n",
    "\n",
    "plot_mode = plot.PlotMode.xy\n",
    "fig = plt.figure(figsize=(18,10))\n",
    "ax = plot.prepare_axis(fig, plot_mode)\n",
    "plot.traj(ax, plot_mode, traj_ref, '--', \"gray\", \"reference\")\n",
    "plot.traj_colormap(ax, traj_est, ape_tran.error, plot_mode,\n",
    "                   min_map=ape_tran.get_all_statistics()[\"min\"],\n",
    "                   max_map=ape_tran.get_all_statistics()[\"max\"],\n",
    "                   title=\"VIO Trajectory Tracking - Color Coded by ATE\")\n",
    "ax.legend()\n",
    "plt.show()"
   ]
  },
  {
   "cell_type": "markdown",
   "metadata": {},
   "source": [
    "## Relative-Pose-Error Plotting\n",
    "\n",
    "Plot relative-pose-error along the entire trajectory. RPE gives a good sense of overall VIO performance from one frame to the next."
   ]
  },
  {
   "cell_type": "code",
   "execution_count": null,
   "metadata": {},
   "outputs": [],
   "source": [
    "# Get RPE for entire relative trajectory.\n",
    "rpe_rot = get_rpe((traj_ref, traj_est), metrics.PoseRelation.rotation_angle_deg)\n",
    "rpe_tran = get_rpe((traj_ref, traj_est), metrics.PoseRelation.translation_part)"
   ]
  },
  {
   "cell_type": "code",
   "execution_count": null,
   "metadata": {},
   "outputs": [],
   "source": [
    "# Plot RPE of trajectory rotation and translation parts.\n",
    "seconds_from_start = [t - traj_est.timestamps[0] for t in traj_est.timestamps[1:]]\n",
    "\n",
    "plot_rpe(seconds_from_start, rpe_rot, title=\"VIO RRE in Degrees\")\n",
    "plot_rpe(seconds_from_start, rpe_tran, title=\"VIO RTE in Meters\")"
   ]
  },
  {
   "cell_type": "code",
   "execution_count": null,
   "metadata": {},
   "outputs": [],
   "source": [
    "# important: restrict data to delta ids for plot.\n",
    "traj_ref_plot = copy.deepcopy(traj_ref)\n",
    "traj_est_plot = copy.deepcopy(traj_est)\n",
    "traj_ref_plot.reduce_to_ids(rpe_rot.delta_ids)\n",
    "traj_est_plot.reduce_to_ids(rpe_rot.delta_ids)\n",
    "\n",
    "# Plot the ground truth and estimated trajectories against each other with RPE overlaid.\n",
    "\n",
    "plot_mode = plot.PlotMode.xy\n",
    "fig = plt.figure(figsize=(18,10))\n",
    "ax = plot.prepare_axis(fig, plot_mode)\n",
    "plot.traj(ax, plot_mode, traj_ref_plot, '--', \"gray\", \"reference\")\n",
    "plot.traj_colormap(ax, traj_est_plot, rpe_rot.error, plot_mode,\n",
    "                   min_map=rpe_rot.get_all_statistics()[\"min\"],\n",
    "                   max_map=rpe_rot.get_all_statistics()[\"max\"],\n",
    "                   title=\"VIO Trajectory Tracking - Color Coded by RRE\")\n",
    "ax.legend()\n",
    "plt.show()"
   ]
  },
  {
   "cell_type": "markdown",
   "metadata": {},
   "source": [
    "## Trajectory Plotting\n",
    "\n",
    "Plot the aligned and associated estimated trajectory against ground truth."
   ]
  },
  {
   "cell_type": "code",
   "execution_count": null,
   "metadata": {},
   "outputs": [],
   "source": [
    "# Plot the trajectories for quick error visualization.\n",
    "\n",
    "fig = plt.figure(figsize=(18,10))\n",
    "traj_by_label = {\n",
    "    \"estimate (unaligned)\": traj_est_unaligned,\n",
    "    \"estimate (aligned)\": traj_est,\n",
    "    \"reference\": traj_ref\n",
    "}\n",
    "plot.trajectories(fig, traj_by_label, plot.PlotMode.xyz, title=\"PIM Trajectory Tracking in 3D\")\n",
    "plt.show()"
   ]
  },
  {
   "cell_type": "markdown",
   "metadata": {},
   "source": [
    "## PIM Plotting\n",
    "\n",
    "Plot preintegrated-imu-measurement estimates of current state over time. This comes in as a trajectory. The plots of error serve to help visualize the error in pim values over time.\n",
    "\n",
    "Note that these pim values are built off the backend's estimation, not off of ground truth."
   ]
  },
  {
   "cell_type": "code",
   "execution_count": null,
   "metadata": {},
   "outputs": [],
   "source": [
    "pim_filename = os.path.join(os.path.expandvars(vio_output_dir), \"output_pim_navstates.csv\")\n",
    "pim_df = pd.read_csv(pim_filename, sep=',', index_col=0)\n",
    "rename_pim_df(pim_df)\n",
    "\n",
    "gt_df = pd.read_csv(gt_data_file, sep=',', index_col=0)\n",
    "gt_df = gt_df[~gt_df.index.duplicated()]\n",
    "rename_euroc_gt_df(gt_df)"
   ]
  },
  {
   "cell_type": "code",
   "execution_count": null,
   "metadata": {},
   "outputs": [],
   "source": [
    "# Convert the gt relative-pose DataFrame to a trajectory object.\n",
    "traj_ref = pandas_bridge.df_to_trajectory(gt_df)\n",
    "\n",
    "# Use the mono ransac file as estimated trajectory.\n",
    "# traj_est_unassociated = file_interface.read_swe_csv_trajectory(ransac_mono_filename)\n",
    "traj_est_unaligned = pandas_bridge.df_to_trajectory(pim_df)\n",
    "\n",
    "# Associate the data.\n",
    "traj_est = copy.deepcopy(traj_est_unaligned)\n",
    "traj_ref, traj_est = sync.associate_trajectories(traj_ref, traj_est)\n",
    "traj_est = trajectory.align_trajectory(traj_est, traj_ref, correct_scale=False)\n",
    "\n",
    "print \"traj_ref: \", traj_ref\n",
    "print \"traj_est: \", traj_est"
   ]
  },
  {
   "cell_type": "code",
   "execution_count": null,
   "metadata": {},
   "outputs": [],
   "source": [
    "# Get RPE for entire relative trajectory.\n",
    "rpe_rot = get_rpe((traj_ref, traj_est), metrics.PoseRelation.rotation_angle_deg)\n",
    "rpe_tran = get_rpe((traj_ref, traj_est), metrics.PoseRelation.translation_part)"
   ]
  },
  {
   "cell_type": "code",
   "execution_count": null,
   "metadata": {},
   "outputs": [],
   "source": [
    "# Plot RPE of trajectory rotation and translation parts.\n",
    "seconds_from_start = [t - traj_est.timestamps[0] for t in traj_est.timestamps[1:]]\n",
    "\n",
    "plot_rpe(seconds_from_start, rpe_rot, title=\"PIM RRE in Degrees\")\n",
    "plot_rpe(seconds_from_start, rpe_tran, title=\"PIM RTE in Meters\")"
   ]
  },
  {
   "cell_type": "code",
   "execution_count": null,
   "metadata": {},
   "outputs": [],
   "source": [
    "# Important: restrict data to delta ids for plot.\n",
    "traj_ref_plot = copy.deepcopy(traj_ref)\n",
    "traj_est_plot = copy.deepcopy(traj_est)\n",
    "traj_ref_plot.reduce_to_ids(rpe_rot.delta_ids)\n",
    "traj_est_plot.reduce_to_ids(rpe_rot.delta_ids)\n",
    "\n",
    "# Plot the ground truth and estimated trajectories against each other with RPE overlaid.\n",
    "\n",
    "plot_mode = plot.PlotMode.xy\n",
    "fig = plt.figure(figsize=(18,10))\n",
    "ax = plot.prepare_axis(fig, plot_mode)\n",
    "plot.traj(ax, plot_mode, traj_ref_plot, '--', \"gray\", \"reference\")\n",
    "plot.traj_colormap(ax, traj_est_plot, rpe_rot.error, plot_mode,\n",
    "                   min_map=rpe_rot.get_all_statistics()[\"min\"],\n",
    "                   max_map=rpe_rot.get_all_statistics()[\"max\"],\n",
    "                   title=\"PIM Trajectory Tracking - Color Coded by RRE\")\n",
    "ax.legend()\n",
    "plt.show()"
   ]
  }
 ],
 "metadata": {
  "kernelspec": {
   "display_name": "Python 2",
   "language": "python",
   "name": "python2"
  },
  "language_info": {
   "codemirror_mode": {
    "name": "ipython",
    "version": 2
   },
   "file_extension": ".py",
   "mimetype": "text/x-python",
   "name": "python",
   "nbconvert_exporter": "python",
   "pygments_lexer": "ipython2",
   "version": "2.7.17"
  }
 },
 "nbformat": 4,
 "nbformat_minor": 2
}
