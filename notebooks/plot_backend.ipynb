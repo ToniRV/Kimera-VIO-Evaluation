{
 "cells": [
  {
   "cell_type": "markdown",
   "metadata": {},
   "source": [
    "# Plot Backend\n",
    "\n",
    "Plots the APE, RPE and trajectory against ground truth for the final backend output trajectory."
   ]
  },
  {
   "cell_type": "code",
   "execution_count": null,
   "metadata": {},
   "outputs": [],
   "source": [
    "import yaml\n",
    "import os\n",
    "import copy\n",
    "import pandas as pd\n",
    "import numpy as np\n",
    "\n",
    "import logging\n",
    "log = logging.getLogger(__name__)\n",
    "log.setLevel(logging.INFO)\n",
    "if not log.handlers:\n",
    "    ch = logging.StreamHandler()\n",
    "    ch.setLevel(logging.INFO)\n",
    "    ch.setFormatter(logging.Formatter('%(levelname)s - %(message)s'))\n",
    "    log.addHandler(ch)\n",
    "    \n",
    "from evo.tools import file_interface\n",
    "from evo.tools import plot\n",
    "from evo.tools import pandas_bridge\n",
    "\n",
    "from evo.core import sync\n",
    "from evo.core import trajectory\n",
    "from evo.core import metrics\n",
    "from evo.core import transformations\n",
    "from evo.core import lie_algebra as lie\n",
    "\n",
    "from evaluation.evaluation_lib import get_ape_trans, get_ape_rot, get_rpe_trans, get_rpe_rot, \\\n",
    "    plot_metric, plot_traj_colormap_ape, plot_traj_colormap_rpe\n",
    "\n",
    "%matplotlib inline\n",
    "# %matplotlib notebook\n",
    "import matplotlib.pyplot as plt\n",
    "from matplotlib.collections import LineCollection\n",
    "import mpl_toolkits.mplot3d.art3d as art3d"
   ]
  },
  {
   "cell_type": "markdown",
   "metadata": {},
   "source": [
    "## Data Locations\n",
    "\n",
    "Make sure to set the following paths.\n",
    "\n",
    "`vio_output_dir` is the path to the directory containing `output_*.csv` files obtained from logging a run of SparkVio.\n",
    "\n",
    "`gt_data_file` is the absolute path to the `csv` file containing ground truth data for the absolute pose at each timestamp of the dataset."
   ]
  },
  {
   "cell_type": "code",
   "execution_count": null,
   "metadata": {},
   "outputs": [],
   "source": [
    "# Define directory to VIO output csv files as well as ground truth absolute poses.\n",
    "vio_output_dir = \"\"\n",
    "gt_data_file = \"\""
   ]
  },
  {
   "cell_type": "code",
   "execution_count": null,
   "metadata": {},
   "outputs": [],
   "source": [
    "def rename_pim_df(df):\n",
    "    \"\"\" Renames a DataFrame built from a PIM measurements csv file to be converted to a trajectory.\n",
    "    \n",
    "        This is an 'inplace' argument and returns nothing.\n",
    "    \n",
    "        Args:\n",
    "            df: A pandas.DataFrame object.\n",
    "    \"\"\"\n",
    "    df.index.names = [\"timestamp\"]\n",
    "    df.rename(columns={\"tx\": \"x\",\n",
    "                       \"ty\": \"y\",\n",
    "                       \"tz\": \"z\"}, inplace=True)\n",
    "\n",
    "# show coordinate axes\n",
    "def colored_line_collection(xyz, colors, plot_mode=plot.PlotMode.xy,\n",
    "                            linestyles=\"solid\", step=2, alpha=1.):\n",
    "    if len(xyz) / step != len(colors):\n",
    "        raise PlotException(\n",
    "            \"color values don't have correct length: %d vs. %d\" %\n",
    "            (len(xyz) / step, len(colors)))\n",
    "    x_idx, y_idx, z_idx = plot.plot_mode_to_idx(plot_mode)\n",
    "    xs = [[x_1, x_2]\n",
    "          for x_1, x_2 in zip(xyz[:-1:step, x_idx], xyz[1::step, x_idx])]\n",
    "    ys = [[x_1, x_2]\n",
    "          for x_1, x_2 in zip(xyz[:-1:step, y_idx], xyz[1::step, y_idx])]\n",
    "    if plot_mode == plot.PlotMode.xyz:\n",
    "        zs = [[x_1, x_2]\n",
    "              for x_1, x_2 in zip(xyz[:-1:step, z_idx], xyz[1::step, z_idx])]\n",
    "        segs = [list(zip(x, y, z)) for x, y, z in zip(xs, ys, zs)]\n",
    "        line_collection = art3d.Line3DCollection(segs, colors=colors,\n",
    "                                                 alpha=alpha,\n",
    "                                                 linestyles=linestyles)\n",
    "    else:\n",
    "        segs = [list(zip(x, y)) for x, y in zip(xs, ys)]\n",
    "        line_collection = LineCollection(segs, colors=colors, alpha=alpha,\n",
    "                                         linestyle=linestyles)\n",
    "    return line_collection\n",
    "\n",
    "def draw_coordinate_axes(ax, traj, plot_mode, downsample_ratio=20, marker_scale=1, x_color=\"r\",\n",
    "                         y_color=\"g\", z_color=\"b\"):\n",
    "    \"\"\"\n",
    "    Draws a coordinate frame axis for each pose of a trajectory.\n",
    "    :param ax: plot axis\n",
    "    :param traj: trajectory.PosePath3D or trajectory.PoseTrajectory3D object\n",
    "    :param plot_mode: PlotMode value\n",
    "    :param marker_scale: affects the size of the marker (1. * marker_scale)\n",
    "    :param x_color: color of the x-axis\n",
    "    :param y_color: color of the y-axis\n",
    "    :param z_color: color of the z-axis\n",
    "    \"\"\"\n",
    "    if marker_scale <= 0:\n",
    "        return\n",
    "\n",
    "    unit_x = np.array([1 * marker_scale, 0, 0, 1])\n",
    "    unit_y = np.array([0, 1 * marker_scale, 0, 1])\n",
    "    unit_z = np.array([0, 0, 1 * marker_scale, 1])\n",
    "\n",
    "    # Transform start/end vertices of each axis to global frame.\n",
    "    x_vertices = np.array([[p[:3, 3], p.dot(unit_x)[:3]]\n",
    "                           for p in traj.poses_se3[::downsample_ratio]])\n",
    "    y_vertices = np.array([[p[:3, 3], p.dot(unit_y)[:3]]\n",
    "                           for p in traj.poses_se3[::downsample_ratio]])\n",
    "    z_vertices = np.array([[p[:3, 3], p.dot(unit_z)[:3]]\n",
    "                           for p in traj.poses_se3[::downsample_ratio]])\n",
    "\n",
    "    n = len(traj.poses_se3[::downsample_ratio])\n",
    "    # Concatenate all line segment vertices in order x, y, z.\n",
    "    vertices = np.concatenate((x_vertices, y_vertices, z_vertices)).reshape(\n",
    "        (n * 2 * 3, 3))\n",
    "    # Concatenate all colors per line segment in order x, y, z.\n",
    "    colors = np.array(n * [x_color] + n * [y_color] + n * [z_color])\n",
    "\n",
    "    markers = colored_line_collection(vertices, colors, plot_mode, step=2)\n",
    "    ax.add_collection(markers)\n",
    "    \n",
    "def draw_start_and_end(ax, traj, plot_mode):\n",
    "    \"\"\"Draw start and end points of the trajectory\n",
    "    \"\"\"\n",
    "    start_pose = traj.poses_se3[0]\n",
    "    end_pose = traj.poses_se3[-1]\n",
    "    if plot_mode == plot.PlotMode.xy:\n",
    "        ax.plot(start_pose[0,3], start_pose[1,3], 'bo')\n",
    "        ax.plot(end_pose[0,3], end_pose[1,3], 'rx')"
   ]
  },
  {
   "cell_type": "markdown",
   "metadata": {},
   "source": [
    "## Backend Trajectory\n",
    "\n",
    "Associate, align and process the trajectory as determined by the backend. Note that this does not include loop closure factors or other optimizations. This is pure VIO."
   ]
  },
  {
   "cell_type": "code",
   "execution_count": null,
   "metadata": {},
   "outputs": [],
   "source": [
    "# Load ground truth and estimated data as csv DataFrames.\n",
    "gt_df = pd.read_csv(gt_data_file, sep=',', index_col=0)\n",
    "\n",
    "output_poses_filename = os.path.join(os.path.expandvars(vio_output_dir), \"traj_vio.csv\")\n",
    "output_poses_df = pd.read_csv(output_poses_filename, sep=',', index_col=0)"
   ]
  },
  {
   "cell_type": "code",
   "execution_count": null,
   "metadata": {},
   "outputs": [],
   "source": [
    "gt_df = gt_df[~gt_df.index.duplicated()]"
   ]
  },
  {
   "cell_type": "code",
   "execution_count": null,
   "metadata": {},
   "outputs": [],
   "source": [
    "# Convert the gt relative-pose DataFrame to a trajectory object.\n",
    "traj_ref_complete = pandas_bridge.df_to_trajectory(gt_df)\n",
    "\n",
    "# Use the backend poses as trajectory.\n",
    "traj_est_unaligned = pandas_bridge.df_to_trajectory(output_poses_df)\n",
    "discard_n_start_poses = 0\n",
    "discard_n_end_poses = 0\n",
    "\n",
    "\n",
    "# Associate the data.\n",
    "traj_est = copy.deepcopy(traj_est_unaligned)\n",
    "traj_ref, traj_est = sync.associate_trajectories(traj_ref_complete, traj_est)\n",
    "traj_est = trajectory.align_trajectory(traj_est, traj_ref, correct_scale=False,\n",
    "                                       discard_n_start_poses = int(discard_n_start_poses),\n",
    "                                       discard_n_end_poses = int(discard_n_end_poses))\n",
    "\n",
    "print \"traj_ref: \", traj_ref\n",
    "print \"traj_est: \", traj_est"
   ]
  },
  {
   "cell_type": "code",
   "execution_count": null,
   "metadata": {},
   "outputs": [],
   "source": [
    "# plot ground truth trajectory with pose\n",
    "plot_mode = plot.PlotMode.xy\n",
    "fig = plt.figure(figsize=(18,10))\n",
    "ax = plot.prepare_axis(fig, plot_mode)\n",
    "draw_coordinate_axes(ax, traj_ref_complete, marker_scale=2, downsample_ratio=20, plot_mode=plot_mode)\n",
    "draw_start_and_end(ax, traj_ref_complete, plot_mode)\n",
    "plot.traj(ax, plot_mode, traj_ref_complete, '--', \"gray\", \"reference\")\n",
    "plt.title('Reference trajectory with pose')\n",
    "plt.show()\n",
    "\n",
    "# plot unaligned trajectory with pose\n",
    "plot_mode = plot.PlotMode.xy\n",
    "fig = plt.figure(figsize=(18,10))\n",
    "ax = plot.prepare_axis(fig, plot_mode)\n",
    "draw_coordinate_axes(ax, traj_est_unaligned, marker_scale=0.3, plot_mode=plot_mode)\n",
    "draw_start_and_end(ax, traj_est_unaligned, plot_mode)\n",
    "plot.traj(ax, plot_mode, traj_est_unaligned, '--', \"gray\", \"reference\")\n",
    "plt.title('Estimated trajectory with pose')\n",
    "plt.show()"
   ]
  },
  {
   "cell_type": "markdown",
   "metadata": {},
   "source": [
    "## Absolute-Pose-Error Plotting\n",
    "\n",
    "Plot absolute-pose-error along the entire trajectory. APE gives a good sense of overall VIO performance across the entire trajectory."
   ]
  },
  {
   "cell_type": "code",
   "execution_count": null,
   "metadata": {},
   "outputs": [],
   "source": [
    "# Plot APE of trajectory rotation and translation parts.\n",
    "num_of_poses = traj_est.num_poses\n",
    "traj_est.reduce_to_ids(range(int(discard_n_start_poses), int(num_of_poses - discard_n_end_poses), 1))\n",
    "traj_ref.reduce_to_ids(range(int(discard_n_start_poses), int(num_of_poses - discard_n_end_poses), 1))\n",
    "\n",
    "seconds_from_start = [t - traj_est.timestamps[0] for t in traj_est.timestamps]\n",
    "\n",
    "ape_tran = get_ape_trans((traj_ref, traj_est))\n",
    "fig1 = plot_metric(ape_tran, \"VIO ATE in Meters\", figsize=(18,10))\n",
    "plt.show()"
   ]
  },
  {
   "cell_type": "code",
   "execution_count": null,
   "metadata": {},
   "outputs": [],
   "source": [
    "# Plot the ground truth and estimated trajectories against each other with APE overlaid.\n",
    "fig = plot_traj_colormap_ape(ape_tran, traj_ref, traj_est,\n",
    "                             plot_title=\"VIO Trajectory Tracking - Color Coded by ATE\", figsize=(18,10))\n",
    "plt.show()"
   ]
  },
  {
   "cell_type": "code",
   "execution_count": null,
   "metadata": {},
   "outputs": [],
   "source": [
    "plot_mode = plot.PlotMode.xyz\n",
    "fig = plt.figure(figsize=(18,10))\n",
    "ax = plot.prepare_axis(fig, plot_mode)\n",
    "\n",
    "gt_df_downsampled = gt_df.iloc[:1200:100]\n",
    "\n",
    "\n",
    "# reference trajectory\n",
    "traj_ref_downsampled = pandas_bridge.df_to_trajectory(gt_df_downsampled)\n",
    "draw_coordinate_axes(ax, traj_ref, plot_mode=plot_mode)\n",
    "draw_coordinate_axes(ax, traj_est, plot_mode=plot_mode)\n",
    "plot.traj(ax, plot_mode, traj_ref, '--', \"gray\", \"reference\")\n",
    "plot.traj(ax, plot_mode, traj_est, '--', \"green\", \"estimate\")\n",
    "\n",
    "plt.title('Trajectory with pose')\n",
    "plt.show()"
   ]
  },
  {
   "cell_type": "markdown",
   "metadata": {},
   "source": [
    "## Relative-Pose-Error Plotting\n",
    "\n",
    "Plot relative-pose-error along the entire trajectory. RPE gives a good sense of overall VIO performance from one frame to the next."
   ]
  },
  {
   "cell_type": "code",
   "execution_count": null,
   "metadata": {},
   "outputs": [],
   "source": [
    "# Get RPE for entire relative trajectory.\n",
    "rpe_rot = get_rpe_rot((traj_ref, traj_est))\n",
    "rpe_tran = get_rpe_trans((traj_ref, traj_est))"
   ]
  },
  {
   "cell_type": "code",
   "execution_count": null,
   "metadata": {},
   "outputs": [],
   "source": [
    "# Plot RPE of trajectory rotation and translation parts.\n",
    "seconds_from_start = [t - traj_est.timestamps[0] for t in traj_est.timestamps[1:]]\n",
    "\n",
    "fig1 = plot_metric(rpe_rot, \"VIO RRE in Degrees\", figsize=(18,10))\n",
    "fig2 = plot_metric(rpe_tran, \"VIO RTE in Meters\", figsize=(18,10))\n",
    "plt.show()"
   ]
  },
  {
   "cell_type": "code",
   "execution_count": null,
   "metadata": {},
   "outputs": [],
   "source": [
    "fig = plot_traj_colormap_rpe(rpe_rot, traj_ref, traj_est,\n",
    "                             plot_title=\"VIO Trajectory Tracking - Color Coded by RRE\", figsize=(18,10))\n",
    "plt.show()"
   ]
  },
  {
   "cell_type": "markdown",
   "metadata": {},
   "source": [
    "## Trajectory Plotting\n",
    "\n",
    "Plot the aligned and associated estimated trajectory against ground truth."
   ]
  },
  {
   "cell_type": "code",
   "execution_count": null,
   "metadata": {},
   "outputs": [],
   "source": [
    "# Plot the trajectories for quick error visualization.\n",
    "\n",
    "fig = plt.figure(figsize=(18,10))\n",
    "traj_by_label = {\n",
    "    \"estimate (unaligned)\": traj_est_unaligned,\n",
    "    \"estimate (aligned)\": traj_est,\n",
    "    \"reference\": traj_ref\n",
    "}\n",
    "plot.trajectories(fig, traj_by_label, plot.PlotMode.xyz, title=\"PIM Trajectory Tracking in 3D\")\n",
    "plt.show()"
   ]
  },
  {
   "cell_type": "markdown",
   "metadata": {},
   "source": [
    "## PIM Plotting\n",
    "\n",
    "Plot preintegrated-imu-measurement estimates of current state over time. This comes in as a trajectory. The plots of error serve to help visualize the error in pim values over time.\n",
    "\n",
    "Note that these pim values are built off the backend's estimation, not off of ground truth."
   ]
  },
  {
   "cell_type": "code",
   "execution_count": null,
   "metadata": {},
   "outputs": [],
   "source": [
    "pim_filename = os.path.join(os.path.expandvars(vio_output_dir), \"output_pim_navstates.csv\")\n",
    "pim_df = pd.read_csv(pim_filename, sep=',', index_col=0)\n",
    "rename_pim_df(pim_df)\n",
    "\n",
    "gt_df = pd.read_csv(gt_data_file, sep=',', index_col=0)\n",
    "gt_df = gt_df[~gt_df.index.duplicated()]"
   ]
  },
  {
   "cell_type": "code",
   "execution_count": null,
   "metadata": {},
   "outputs": [],
   "source": [
    "# Convert the gt relative-pose DataFrame to a trajectory object.\n",
    "traj_ref = pandas_bridge.df_to_trajectory(gt_df)\n",
    "\n",
    "# Use the mono ransac file as estimated trajectory.\n",
    "# traj_est_unassociated = file_interface.read_swe_csv_trajectory(ransac_mono_filename)\n",
    "traj_est_unaligned = pandas_bridge.df_to_trajectory(pim_df)\n",
    "\n",
    "# Associate the data.\n",
    "traj_est = copy.deepcopy(traj_est_unaligned)\n",
    "traj_ref, traj_est = sync.associate_trajectories(traj_ref, traj_est)\n",
    "traj_est = trajectory.align_trajectory(traj_est, traj_ref, correct_scale=False)\n",
    "\n",
    "print \"traj_ref: \", traj_ref\n",
    "print \"traj_est: \", traj_est"
   ]
  },
  {
   "cell_type": "code",
   "execution_count": null,
   "metadata": {},
   "outputs": [],
   "source": [
    "# Get RPE for entire relative trajectory.\n",
    "rpe_rot = get_rpe_rot((traj_ref, traj_est))\n",
    "rpe_tran = get_rpe_trans((traj_ref, traj_est))"
   ]
  },
  {
   "cell_type": "code",
   "execution_count": null,
   "metadata": {
    "scrolled": false
   },
   "outputs": [],
   "source": [
    "# Plot RPE of trajectory rotation and translation parts.\n",
    "seconds_from_start = [t - traj_est.timestamps[0] for t in traj_est.timestamps[1:]]\n",
    "\n",
    "plot_metric(rpe_rot, \"PIM RRE in Degrees\", figsize=(18,10))\n",
    "plot_metric(rpe_tran, \"PIM RTE in Meters\", figsize=(18,10))\n",
    "plt.show()"
   ]
  },
  {
   "cell_type": "code",
   "execution_count": null,
   "metadata": {},
   "outputs": [],
   "source": [
    "fig = plot_traj_colormap_rpe(rpe_rot, traj_ref, traj_est,\n",
    "                             plot_title=\"PIM Trajectory Tracking - Color Coded by RRE\", figsize=(18,10))\n",
    "plt.show()"
   ]
  },
  {
   "cell_type": "markdown",
   "metadata": {},
   "source": [
    "# Smart Factors\n",
    "Plot smart factors vs. time"
   ]
  },
  {
   "cell_type": "code",
   "execution_count": null,
   "metadata": {},
   "outputs": [],
   "source": [
    "output_sf_filename = os.path.join(os.path.expandvars(vio_output_dir), \"output_smartFactors.csv\")\n",
    "output_sf_df = pd.read_csv(output_sf_filename, sep=',', index_col=0)\n",
    "fig = plt.figure(figsize=(18,10))\n",
    "plt.plot(output_sf_df.timestamp_kf, output_sf_df.numValid)\n",
    "plt.ylabel('Valid Smart Factors')\n",
    "plt.xlabel('Timestamps')\n",
    "plt.show()"
   ]
  },
  {
   "cell_type": "markdown",
   "metadata": {},
   "source": [
    "# Biases\n",
    "Plot biases of gyro and accelerometer"
   ]
  },
  {
   "cell_type": "code",
   "execution_count": null,
   "metadata": {},
   "outputs": [],
   "source": [
    "fig = plt.figure(figsize=(18,10))\n",
    "plt.plot(output_poses_df.index, output_poses_df.bgx)\n",
    "plt.plot(output_poses_df.index, output_poses_df.bgy)\n",
    "plt.plot(output_poses_df.index, output_poses_df.bgz)\n",
    "plt.ylabel('Gyro Biases')\n",
    "plt.xlabel('Timestamps')\n",
    "plt.legend()\n",
    "plt.show()\n",
    "\n",
    "fig = plt.figure(figsize=(18,10))\n",
    "plt.plot(output_poses_df.index, output_poses_df.bax)\n",
    "plt.plot(output_poses_df.index, output_poses_df.bay)\n",
    "plt.plot(output_poses_df.index, output_poses_df.baz)\n",
    "plt.ylabel('Acceleration Biases')\n",
    "plt.xlabel('Timestamps')\n",
    "plt.legend()\n",
    "plt.show()"
   ]
  },
  {
   "cell_type": "code",
   "execution_count": null,
   "metadata": {},
   "outputs": [],
   "source": []
  }
 ],
 "metadata": {
  "hide_input": false,
  "kernelspec": {
   "display_name": "Python 2",
   "language": "python",
   "name": "python2"
  },
  "language_info": {
   "codemirror_mode": {
    "name": "ipython",
    "version": 2
   },
   "file_extension": ".py",
   "mimetype": "text/x-python",
   "name": "python",
   "nbconvert_exporter": "python",
   "pygments_lexer": "ipython2",
   "version": "2.7.17"
  },
  "latex_envs": {
   "LaTeX_envs_menu_present": true,
   "autoclose": false,
   "autocomplete": false,
   "bibliofile": "biblio.bib",
   "cite_by": "apalike",
   "current_citInitial": 1,
   "eqLabelWithNumbers": true,
   "eqNumInitial": 1,
   "hotkeys": {
    "equation": "Ctrl-E",
    "itemize": "Ctrl-I"
   },
   "labels_anchors": false,
   "latex_user_defs": false,
   "report_style_numbering": false,
   "user_envs_cfg": false
  },
  "toc": {
   "base_numbering": 1,
   "nav_menu": {},
   "number_sections": true,
   "sideBar": true,
   "skip_h1_title": false,
   "title_cell": "Table of Contents",
   "title_sidebar": "Contents",
   "toc_cell": false,
   "toc_position": {},
   "toc_section_display": true,
   "toc_window_display": false
  }
 },
 "nbformat": 4,
 "nbformat_minor": 2
}
