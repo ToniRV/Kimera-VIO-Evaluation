{
 "cells": [
  {
   "cell_type": "code",
   "execution_count": 5,
   "metadata": {
    "scrolled": true
   },
   "outputs": [],
   "source": [
    "import os.path\n",
    "from os import path\n",
    "\n",
    "from evaluation.metric_semantic_evaluation import MeshEvaluator"
   ]
  },
  {
   "cell_type": "code",
   "execution_count": 7,
   "metadata": {},
   "outputs": [
    {
     "name": "stdout",
     "output_type": "stream",
     "text": [
      "Initial registration\n",
      "registration::RegistrationResult with fitness = 0.999999, inlier_rmse = 0.232366, and correspondence_set size of 2141464\n",
      "Access transformation to get result.\n",
      "Apply point-to-point ICP\n",
      "Done with point-to-point ICP\n",
      "Geometric inlier RMSE [m]: \n",
      "0.196115846031\n",
      " \n"
     ]
    },
    {
     "data": {
      "text/plain": [
       "(0.19611584603077084, -1)"
      ]
     },
     "execution_count": 7,
     "metadata": {},
     "output_type": "execute_result"
    }
   ],
   "source": [
    "# FILL PATHS BELOW\n",
    "est_mesh_path = \"/home/tonirv/Documents/uHumans1_PGMO_vxblx/office_scene/uHumans1_06h/mesh_pgmo.ply\"\n",
    "gt_mesh_path = \"/home/tonirv/datasets/uHumans1/gt_mesh/office_toni2.ply\"\n",
    "visualize = True\n",
    "semantic_labels_csv_path=\"/home/tonirv/Code/ROS/kimera_ws/src/Kimera-Semantics/kimera_semantics_ros/cfg/tesse_multiscene_office2_segmentation_mapping.csv\"\n",
    "\n",
    "mesh_eval = MeshEvaluator(est_mesh_path, gt_mesh_path, semantic_labels_csv_path)\n",
    "mesh_eval.compare_meshes(only_geometric = True)\n"
   ]
  }
 ],
 "metadata": {
  "kernelspec": {
   "display_name": "Python 2",
   "language": "python",
   "name": "python2"
  },
  "language_info": {
   "codemirror_mode": {
    "name": "ipython",
    "version": 2
   },
   "file_extension": ".py",
   "mimetype": "text/x-python",
   "name": "python",
   "nbconvert_exporter": "python",
   "pygments_lexer": "ipython2",
   "version": "2.7.15+"
  }
 },
 "nbformat": 4,
 "nbformat_minor": 2
}
