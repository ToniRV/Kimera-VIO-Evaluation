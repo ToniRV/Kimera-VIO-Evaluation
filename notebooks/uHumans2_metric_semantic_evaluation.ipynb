{
 "cells": [
  {
   "cell_type": "code",
   "execution_count": null,
   "metadata": {},
   "outputs": [],
   "source": [
    "import os.path\n",
    "from os import path\n",
    "\n",
    "from evaluation.metric_semantic_evaluation import MeshEvaluator"
   ]
  },
  {
   "cell_type": "code",
   "execution_count": null,
   "metadata": {},
   "outputs": [],
   "source": [
    "# FILL PATHS BELOW\n",
    "artifacts_path = \"/home/tonirv/Documents/uHumans2_VIO_vxblx/\"\n",
    "gt_meshes_path = \"/home/tonirv/datasets/uHumans2/uHumans dataset V2.0 GT Meshes/\"\n",
    "\n",
    "semantic_labels_csvs_path = \"/home/tonirv/Code/ROS/kimera_ws/src/Kimera-Semantics/kimera_semantics_ros/cfg/\"\n",
    "visualize = False"
   ]
  },
  {
   "cell_type": "code",
   "execution_count": null,
   "metadata": {},
   "outputs": [],
   "source": [
    "def run_mesh_evaluation(scene_type, human_size, number_of_mesh_samples):\n",
    "    est_mesh_base_path = artifacts_path + \"/{}_scene/uHumans2_{}_s1_{}h/\".format(scene_type, scene_type, human_size)\n",
    "    est_mesh_names = [\n",
    "      #'mesh_DVIO.ply', \n",
    "      #'mesh_gt.ply', \n",
    "      #'mesh_DVIO_wo_DM.ply', \n",
    "      #'mesh_gt_wo_DM.ply',\n",
    "        'mesh_pgmo.ply'\n",
    "    ]\n",
    "    \n",
    "    # Parallelize! Write output to file?\n",
    "    for est_mesh_name in est_mesh_names:\n",
    "        est_mesh_path = est_mesh_base_path + est_mesh_name\n",
    "        print(\"EVAL: {} in {} scene\".format(est_mesh_name, scene_type))\n",
    "        if not os.path.exists(est_mesh_path):\n",
    "            print(\"Path to {} doesn't exist: {}\".format(est_mesh_name, est_mesh_path))\n",
    "            continue\n",
    "            \n",
    "        mesh_eval = MeshEvaluator(est_mesh_path, gt_mesh_path, semantic_labels_csv_path, visualize)\n",
    "        \n",
    "        only_geometric_eval = False\n",
    "        #if \"_\" in est_mesh_name:\n",
    "            # Only compute geometric erros if comparing with vs wo DM.\n",
    "        #    only_geometric_eval = True\n",
    "        \n",
    "        inlier_rmse, semantic_accuracy = mesh_eval.compare_meshes(number_of_mesh_samples, only_geometric_eval)\n",
    "        \n",
    "        print(\"Inlier RMSE [m]: \", inlier_rmse)\n",
    "        print(\"Semantic Accuracy [%]: \", semantic_accuracy)"
   ]
  },
  {
   "cell_type": "markdown",
   "metadata": {},
   "source": [
    "# Apartment Scene"
   ]
  },
  {
   "cell_type": "code",
   "execution_count": null,
   "metadata": {},
   "outputs": [],
   "source": [
    "gt_mesh_path = gt_meshes_path + \"apartment.ply\"\n",
    "semantic_labels_csv_path = semantic_labels_csvs_path + \"tesse_multiscene_archviz1_segmentation_mapping.csv\""
   ]
  },
  {
   "cell_type": "markdown",
   "metadata": {},
   "source": [
    "## Apartment S1 00h\n"
   ]
  },
  {
   "cell_type": "code",
   "execution_count": null,
   "metadata": {},
   "outputs": [],
   "source": [
    "run_mesh_evaluation(\"apartment\", \"00\", 10000000)\n"
   ]
  },
  {
   "cell_type": "markdown",
   "metadata": {},
   "source": [
    "## Apartment S1 01h\n"
   ]
  },
  {
   "cell_type": "code",
   "execution_count": null,
   "metadata": {},
   "outputs": [],
   "source": [
    "run_mesh_evaluation(\"apartment\", \"01\", 10000000)\n"
   ]
  },
  {
   "cell_type": "markdown",
   "metadata": {},
   "source": [
    "## Apartment S1 02h\n"
   ]
  },
  {
   "cell_type": "code",
   "execution_count": null,
   "metadata": {},
   "outputs": [],
   "source": [
    "run_mesh_evaluation(\"apartment\", \"02\", 10000000)\n"
   ]
  },
  {
   "cell_type": "markdown",
   "metadata": {},
   "source": [
    "# Office Scene"
   ]
  },
  {
   "cell_type": "code",
   "execution_count": null,
   "metadata": {},
   "outputs": [],
   "source": [
    "gt_mesh_path = gt_meshes_path + \"office.ply\"\n",
    "semantic_labels_csv_path = semantic_labels_csvs_path + \"tesse_multiscene_office2_segmentation_mapping.csv\""
   ]
  },
  {
   "cell_type": "markdown",
   "metadata": {},
   "source": [
    "## Office Scene 00h"
   ]
  },
  {
   "cell_type": "code",
   "execution_count": null,
   "metadata": {},
   "outputs": [],
   "source": [
    "run_mesh_evaluation(\"office\", \"00\", 10000000)"
   ]
  },
  {
   "cell_type": "markdown",
   "metadata": {},
   "source": [
    "## Office Scene 06h"
   ]
  },
  {
   "cell_type": "code",
   "execution_count": null,
   "metadata": {},
   "outputs": [],
   "source": [
    "run_mesh_evaluation(\"office\", \"06\", 10000000)"
   ]
  },
  {
   "cell_type": "markdown",
   "metadata": {},
   "source": [
    "## Office Scene 12h"
   ]
  },
  {
   "cell_type": "code",
   "execution_count": null,
   "metadata": {},
   "outputs": [],
   "source": [
    "run_mesh_evaluation(\"office\", \"12\", 10000000)"
   ]
  },
  {
   "cell_type": "markdown",
   "metadata": {},
   "source": [
    "# Nieghborhood Scene"
   ]
  },
  {
   "cell_type": "code",
   "execution_count": null,
   "metadata": {},
   "outputs": [],
   "source": [
    "gt_mesh_path = gt_meshes_path + \"neighborhood.ply\"\n",
    "semantic_labels_csv_path = semantic_labels_csvs_path + \"tesse_multiscene_neighborhood1_segmentation_mapping.csv\""
   ]
  },
  {
   "cell_type": "markdown",
   "metadata": {},
   "source": [
    "## Nieghborhood Scene 00h"
   ]
  },
  {
   "cell_type": "code",
   "execution_count": null,
   "metadata": {},
   "outputs": [],
   "source": [
    "run_mesh_evaluation(\"neighborhood\", \"00\", 10000000)"
   ]
  },
  {
   "cell_type": "markdown",
   "metadata": {},
   "source": [
    "## Nieghborhood Scene 24h"
   ]
  },
  {
   "cell_type": "code",
   "execution_count": null,
   "metadata": {},
   "outputs": [],
   "source": [
    "run_mesh_evaluation(\"neighborhood\", \"24\", 10000000)"
   ]
  },
  {
   "cell_type": "markdown",
   "metadata": {},
   "source": [
    "## Nieghborhood Scene 36h"
   ]
  },
  {
   "cell_type": "code",
   "execution_count": null,
   "metadata": {},
   "outputs": [],
   "source": [
    "run_mesh_evaluation(\"neighborhood\", \"36\", 10000000)"
   ]
  },
  {
   "cell_type": "markdown",
   "metadata": {},
   "source": [
    "# Subway Scene"
   ]
  },
  {
   "cell_type": "code",
   "execution_count": null,
   "metadata": {},
   "outputs": [],
   "source": [
    "gt_mesh_path = gt_meshes_path + \"subway.ply\"\n",
    "semantic_labels_csv_path = semantic_labels_csvs_path + \"tesse_multiscene_underground1_segmentation_mapping.csv\""
   ]
  },
  {
   "cell_type": "markdown",
   "metadata": {},
   "source": [
    "## Subway Scene 00h"
   ]
  },
  {
   "cell_type": "code",
   "execution_count": null,
   "metadata": {},
   "outputs": [],
   "source": [
    "run_mesh_evaluation(\"subway\", \"00\", 10000000)"
   ]
  },
  {
   "cell_type": "markdown",
   "metadata": {},
   "source": [
    "## Subway Scene 24h"
   ]
  },
  {
   "cell_type": "code",
   "execution_count": null,
   "metadata": {},
   "outputs": [],
   "source": [
    "run_mesh_evaluation(\"subway\", \"24\", 10000000)"
   ]
  },
  {
   "cell_type": "markdown",
   "metadata": {},
   "source": [
    "## Subway Scene 36h"
   ]
  },
  {
   "cell_type": "code",
   "execution_count": null,
   "metadata": {},
   "outputs": [],
   "source": [
    "run_mesh_evaluation(\"subway\", \"36\", 1000000)"
   ]
  }
 ],
 "metadata": {
  "kernelspec": {
   "display_name": "Python 2",
   "language": "python",
   "name": "python2"
  },
  "language_info": {
   "codemirror_mode": {
    "name": "ipython",
    "version": 2
   },
   "file_extension": ".py",
   "mimetype": "text/x-python",
   "name": "python",
   "nbconvert_exporter": "python",
   "pygments_lexer": "ipython2",
   "version": "2.7.15+"
  }
 },
 "nbformat": 4,
 "nbformat_minor": 2
}
