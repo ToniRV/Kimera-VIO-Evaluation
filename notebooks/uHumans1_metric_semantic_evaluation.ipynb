{
 "cells": [
  {
   "cell_type": "code",
   "execution_count": null,
   "metadata": {
    "scrolled": false
   },
   "outputs": [],
   "source": [
    "import os.path\n",
    "from os import path\n",
    "\n",
    "from evaluation.metric_semantic_evaluation import MeshEvaluator"
   ]
  },
  {
   "cell_type": "markdown",
   "metadata": {},
   "source": [
    "# uHumans1"
   ]
  },
  {
   "cell_type": "code",
   "execution_count": null,
   "metadata": {},
   "outputs": [],
   "source": [
    "visualize = True\n",
    "only_geometric_eval = False\n",
    "gt_mesh_path = \"/home/tonirv/datasets/uHumans1/gt_mesh/office_toni2.ply\"\n",
    "semantic_labels_csv_path=\"/home/tonirv/Code/ROS/kimera_ws/src/Kimera-Semantics/kimera_semantics_ros/cfg/tesse_multiscene_office1_segmentation_mapping.csv\""
   ]
  },
  {
   "cell_type": "markdown",
   "metadata": {},
   "source": [
    "## Office 06h"
   ]
  },
  {
   "cell_type": "code",
   "execution_count": null,
   "metadata": {},
   "outputs": [],
   "source": [
    "# FILL PATHS BELOW\n",
    "est_mesh_path = \"/home/tonirv/Documents/uHumans1_PGMO_vxblx/office_scene/uHumans1_06h/mesh_pgmo.ply\"\n",
    "\n",
    "mesh_eval = MeshEvaluator(est_mesh_path, gt_mesh_path, semantic_labels_csv_path)\n",
    "mesh_eval.compare_meshes(only_geometric = only_geometric_eval)"
   ]
  },
  {
   "cell_type": "markdown",
   "metadata": {},
   "source": [
    "## Office 12h"
   ]
  },
  {
   "cell_type": "code",
   "execution_count": null,
   "metadata": {},
   "outputs": [],
   "source": [
    "# FILL PATHS BELOW\n",
    "est_mesh_path = \"/home/tonirv/Documents/uHumans1_PGMO_vxblx/office_scene/uHumans1_12h/mesh_pgmo.ply\"\n",
    "\n",
    "mesh_eval = MeshEvaluator(est_mesh_path, gt_mesh_path, semantic_labels_csv_path)\n",
    "mesh_eval.compare_meshes(only_geometric = only_geometric_eval)\n"
   ]
  },
  {
   "cell_type": "markdown",
   "metadata": {},
   "source": [
    "## Office 30h"
   ]
  },
  {
   "cell_type": "code",
   "execution_count": null,
   "metadata": {},
   "outputs": [],
   "source": [
    "# FILL PATHS BELOW\n",
    "est_mesh_path = \"/home/tonirv/Documents/uHumans1_PGMO_vxblx/office_scene/uHumans1_30h/mesh_pgmo.ply\"\n",
    "\n",
    "mesh_eval = MeshEvaluator(est_mesh_path, gt_mesh_path, semantic_labels_csv_path)\n",
    "mesh_eval.compare_meshes(only_geometric = only_geometric_eval)\n"
   ]
  }
 ],
 "metadata": {
  "kernelspec": {
   "display_name": "Python 2",
   "language": "python",
   "name": "python2"
  },
  "language_info": {
   "codemirror_mode": {
    "name": "ipython",
    "version": 2
   },
   "file_extension": ".py",
   "mimetype": "text/x-python",
   "name": "python",
   "nbconvert_exporter": "python",
   "pygments_lexer": "ipython2",
   "version": "2.7.15+"
  }
 },
 "nbformat": 4,
 "nbformat_minor": 2
}
