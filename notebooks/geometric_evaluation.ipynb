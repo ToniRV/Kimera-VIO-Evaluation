{
 "cells": [
  {
   "cell_type": "code",
   "execution_count": 1,
   "metadata": {},
   "outputs": [],
   "source": [
    "import numpy as np\n",
    "import os\n",
    "import glog as log\n",
    "import copy\n",
    "\n",
    "from __future__ import division\n",
    "\n",
    "import open3d as o3d\n",
    "from open3d import JVisualizer\n",
    "import pandas as pd\n",
    "\n",
    "from evaluation.tools.mesh import Mesh\n",
    "from evaluation.tools.mesh_evaluator import MeshEvaluator\n",
    "\n",
    "# Rotation matrices:\n",
    "# East North Up (ENU) frame to Unity's world frame of reference\n",
    "enu_R_unity = np.array([[1, 0, 0],\n",
    "                        [0, 0, 1],\n",
    "                        [0, 1, 0]])\n",
    "unity_R_enu = np.transpose(enu_R_unity)\n",
    "\n",
    "# Right Handed frame to Unity's Left Handed frame of reference\n",
    "righthand_R_lefthand = np.array([[1, 0, 0],\n",
    "                                 [0, -1, 0],\n",
    "                                 [0, 0, 1]])\n",
    "lefthand_R_righthand = np.transpose(righthand_R_lefthand)"
   ]
  },
  {
   "cell_type": "code",
   "execution_count": 2,
   "metadata": {},
   "outputs": [],
   "source": [
    "def read_pcl(pcl_path):\n",
    "    return o3d.io.read_point_cloud(pcl_path)\n",
    "\n",
    "def read_mesh(mesh_path):\n",
    "    return Mesh(mesh_path)"
   ]
  },
  {
   "cell_type": "code",
   "execution_count": 3,
   "metadata": {},
   "outputs": [],
   "source": [
    "def sample_mesh(mesh):\n",
    "    NUMBER_OF_SAMPLES=100000\n",
    "    return o3d.geometry.sample_points_uniformly(mesh.mesh_o3d, NUMBER_OF_SAMPLES)"
   ]
  },
  {
   "cell_type": "code",
   "execution_count": 4,
   "metadata": {},
   "outputs": [],
   "source": [
    "def visualize_pcls(est_pcl, gt_pcl):\n",
    "    vis = o3d.visualization.Visualizer()\n",
    "    vis.create_window()\n",
    "    vis.get_render_option().mesh_show_back_face = True\n",
    "    vis.add_geometry(est_pcl)\n",
    "    vis.add_geometry(gt_pcl)\n",
    "    vis.add_geometry(o3d.geometry.create_mesh_coordinate_frame(size=4))\n",
    "    vis.run()\n",
    "    vis.destroy_window()"
   ]
  },
  {
   "cell_type": "code",
   "execution_count": 5,
   "metadata": {},
   "outputs": [],
   "source": [
    "# ICP\n",
    "def draw_registration_result(source, target, transformation):\n",
    "    source_temp = copy.deepcopy(source)\n",
    "    target_temp = copy.deepcopy(target)\n",
    "    source_temp.paint_uniform_color([1, 0.706, 0])\n",
    "    target_temp.paint_uniform_color([0, 0.651, 0.929])\n",
    "    source_temp.transform(transformation)\n",
    "    o3d.visualization.draw_geometries([source_temp, target_temp])\n",
    "def draw_correspondences(source, target, correspondences):\n",
    "    source_temp = copy.deepcopy(source)\n",
    "    target_temp = copy.deepcopy(target)\n",
    "    #source_temp.paint_uniform_color([1, 0.706, 0])\n",
    "    #target_temp.paint_uniform_color([0, 0.651, 0.929])\n",
    "    o3d.visualization.draw_geometries([source_temp, #target_temp, \n",
    "                                       correspondences])\n",
    "    "
   ]
  },
  {
   "cell_type": "code",
   "execution_count": 7,
   "metadata": {},
   "outputs": [],
   "source": [
    "# Visualize initial registration problem\n",
    "def visualize_registration(est_pcl, gt_pcl, initial_transformation):\n",
    "    draw_registration_result(est_pcl, gt_pcl, initial_transformation)"
   ]
  },
  {
   "cell_type": "code",
   "execution_count": 8,
   "metadata": {},
   "outputs": [],
   "source": [
    "# Evaluate current fit between pointclouds\n",
    "def evaluate_registration(est_pcl, gt_pcl, icp_threshold, initial_transformation):\n",
    "    evaluation = o3d.registration.evaluate_registration(est_pcl, gt_pcl, icp_threshold, initial_transformation)\n",
    "    #print(\"Initial registration\")\n",
    "    print(evaluation)"
   ]
  },
  {
   "cell_type": "code",
   "execution_count": 9,
   "metadata": {},
   "outputs": [],
   "source": [
    "def p2p_icp(est_pcl, gt_pcl, icp_threshold, initial_transformation):\n",
    "    #print(\"Apply point-to-point ICP\")\n",
    "    return o3d.registration.registration_icp(\n",
    "        est_pcl, gt_pcl, icp_threshold, initial_transformation,\n",
    "        o3d.registration.TransformationEstimationPointToPoint(),\n",
    "        o3d.registration.ICPConvergenceCriteria(max_iteration = 2000))"
   ]
  },
  {
   "cell_type": "code",
   "execution_count": 14,
   "metadata": {},
   "outputs": [],
   "source": [
    "# ICP params\n",
    "ICP_THRESHOLD = 0.5\n",
    "import math\n",
    "yaw = 0\n",
    "tx = 0\n",
    "ty = 0\n",
    "tz = 0\n",
    "if False:\n",
    "    yaw = 44\n",
    "    tx = 18.5\n",
    "    ty = 25\n",
    "    tz = 2.5\n",
    "yaw_rad = math.radians(yaw)\n",
    "trans_init = np.asarray([[math.cos(yaw_rad), -math.sin(yaw_rad), 0.0, tx],\n",
    "                         [math.sin(yaw_rad), math.cos(yaw_rad), 0.0, ty],\n",
    "                         [0.0, 0.0, 1.0, tz],\n",
    "                         [0.0, 0.0, 0.0, 1.0]])"
   ]
  },
  {
   "cell_type": "code",
   "execution_count": null,
   "metadata": {
    "scrolled": true
   },
   "outputs": [],
   "source": [
    "# FILL PATHS BELOW\n",
    "EUROC_DATASET_PATH = \"/home/tonirv/datasets/euroc/EuRoC/\"\n",
    "euroc_dataset_names = [\"V1_01_easy\", \"V1_02_medium\", \"V1_03_difficult\", \"V2_01_easy\", \"V2_02_medium\", \"V2_03_difficult\"]\n",
    "\n",
    "results_appendix = [\"_spark_vio_registered.ply\", \"_time_horizon_mesh.ply\"]\n",
    "\n",
    "MESH_TYPE = 0 # 0: global 1: time-horizon\n",
    "\n",
    "calculate_precision = True\n",
    "calculate_recall = True\n",
    "\n",
    "precision = {euroc_dataset: 0 for euroc_dataset in euroc_dataset_names}\n",
    "recall = {euroc_dataset: 0 for euroc_dataset in euroc_dataset_names}\n",
    "\n",
    "for euroc_dataset in euroc_dataset_names:\n",
    "    gt_pcl_path = os.path.join(EUROC_DATASET_PATH, euroc_dataset, \"mav0/pointcloud0/data.ply\")\n",
    "    filename = euroc_dataset + results_appendix[MESH_TYPE]\n",
    "    est_pcl_path = os.path.join(\"/home/tonirv/Documents/Research/Papers/2019w-IROS-SparkVIO/results/CloudCompare\", filename)\n",
    "    \n",
    "    print(\"Loading Ground-truth and Estimated meshes from: \") \n",
    "    print(\"- GT PCL: %s\"% gt_pcl_path)\n",
    "    gt_pcl_original = read_pcl(gt_pcl_path)\n",
    "    print(\"- EST Mesh: %s\"% est_pcl_path)\n",
    "    if MESH_TYPE == 0:\n",
    "        est_pcl_original = read_pcl(est_pcl_path)\n",
    "    elif MESH_TYPE == 1:\n",
    "        est_mesh = read_mesh(est_pcl_path)\n",
    "        #o3d.visualization.draw_geometries([est_mesh.mesh_o3d])\n",
    "        est_pcl_original = sample_mesh(est_mesh)\n",
    "        #o3d.visualization.draw_geometries([est_pcl_original])\n",
    "    else:\n",
    "        raise\n",
    "        \n",
    "    # Visualize pointclouds\n",
    "    #o3d.visualization.draw_geometries([gt_pcl, est_pcl])\n",
    "    \n",
    "    print(\"RESULTS FOR: %s\" % euroc_dataset)\n",
    "    if calculate_precision:\n",
    "        print(\"Precision: \")\n",
    "        reg_p2p = p2p_icp(est_pcl_original, gt_pcl_original, ICP_THRESHOLD, trans_init)\n",
    "        precision[euroc_dataset] = {\"Fitness\": reg_p2p.fitness, \"Inlier RMSE\": reg_p2p.inlier_rmse}\n",
    "        print(reg_p2p)\n",
    "    if calculate_recall:\n",
    "        print(\"Recall: \")\n",
    "        reg_p2p = p2p_icp(gt_pcl_original, est_pcl_original, ICP_THRESHOLD, trans_init)\n",
    "        recall[euroc_dataset] = {\"Fitness\": reg_p2p.fitness, \"Inlier RMSE\": reg_p2p.inlier_rmse}\n",
    "        print(reg_p2p)"
   ]
  },
  {
   "cell_type": "code",
   "execution_count": null,
   "metadata": {},
   "outputs": [],
   "source": [
    "print precision"
   ]
  },
  {
   "cell_type": "code",
   "execution_count": null,
   "metadata": {},
   "outputs": [],
   "source": [
    "print recall"
   ]
  },
  {
   "cell_type": "code",
   "execution_count": null,
   "metadata": {},
   "outputs": [],
   "source": []
  }
 ],
 "metadata": {
  "kernelspec": {
   "display_name": "Python 2",
   "language": "python",
   "name": "python2"
  },
  "language_info": {
   "codemirror_mode": {
    "name": "ipython",
    "version": 2
   },
   "file_extension": ".py",
   "mimetype": "text/x-python",
   "name": "python",
   "nbconvert_exporter": "python",
   "pygments_lexer": "ipython2",
   "version": "2.7.15rc1"
  }
 },
 "nbformat": 4,
 "nbformat_minor": 2
}
